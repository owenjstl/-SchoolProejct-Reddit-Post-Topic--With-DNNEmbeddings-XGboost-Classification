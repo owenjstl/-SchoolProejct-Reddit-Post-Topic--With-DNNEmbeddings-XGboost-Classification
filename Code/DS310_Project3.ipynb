{
  "nbformat": 4,
  "nbformat_minor": 0,
  "metadata": {
    "colab": {
      "name": "DS310 Project3.ipynb",
      "provenance": [],
      "collapsed_sections": [],
      "machine_shape": "hm"
    },
    "kernelspec": {
      "name": "python3",
      "display_name": "Python 3"
    }
  },
  "cells": [
    {
      "cell_type": "code",
      "metadata": {
        "colab": {
          "base_uri": "https://localhost:8080/"
        },
        "id": "vBdTAEOGkO16",
        "outputId": "75f8123e-baa8-43cf-c852-0176561b78a0"
      },
      "source": [
        "\n",
        "import pandas as pd\n",
        "from sklearn.feature_extraction.text import TfidfVectorizer\n",
        "import numpy as np\n",
        "from scipy.spatial import distance\n",
        "\n",
        "# read the data\n",
        "print('Loading data ...')\n",
        "train_data = pd.read_csv('train_data.csv')\n",
        "test_data = pd.read_csv('test_data.csv')\n",
        "\n"
      ],
      "execution_count": null,
      "outputs": [
        {
          "output_type": "stream",
          "text": [
            "Loading data ...\n"
          ],
          "name": "stdout"
        }
      ]
    },
    {
      "cell_type": "code",
      "metadata": {
        "id": "oQkvX9O2hMhR"
      },
      "source": [
        "#combine\n",
        "\n",
        "#all_data = pd.concat((train_data, test_data), axis=0, ignore_index=True)\n",
        "#all_data.head()"
      ],
      "execution_count": null,
      "outputs": []
    },
    {
      "cell_type": "markdown",
      "metadata": {
        "id": "NMv_WCw6HrJI"
      },
      "source": [
        "\n",
        "---\n",
        "Initialize train data\n"
      ]
    },
    {
      "cell_type": "code",
      "metadata": {
        "id": "3rL82iXLkV53",
        "colab": {
          "base_uri": "https://localhost:8080/",
          "height": 198
        },
        "outputId": "8fad4b9f-4f59-456d-c8f3-69321610010a"
      },
      "source": [
        "# obtain and count the text data\n",
        "train_text = list(train_data['Text'])\n",
        "test_text = list(test_data['Text'])\n",
        "num_of_train = len(train_text)\n",
        "num_of_test = len(test_text)\n",
        "\n",
        "# labels of training data\n",
        "train_label = list(train_data['Category'])\n",
        "\n",
        "train_data.head()\n"
      ],
      "execution_count": null,
      "outputs": [
        {
          "output_type": "execute_result",
          "data": {
            "text/html": [
              "<div>\n",
              "<style scoped>\n",
              "    .dataframe tbody tr th:only-of-type {\n",
              "        vertical-align: middle;\n",
              "    }\n",
              "\n",
              "    .dataframe tbody tr th {\n",
              "        vertical-align: top;\n",
              "    }\n",
              "\n",
              "    .dataframe thead th {\n",
              "        text-align: right;\n",
              "    }\n",
              "</style>\n",
              "<table border=\"1\" class=\"dataframe\">\n",
              "  <thead>\n",
              "    <tr style=\"text-align: right;\">\n",
              "      <th></th>\n",
              "      <th>ID</th>\n",
              "      <th>Text</th>\n",
              "      <th>Category</th>\n",
              "      <th>Type</th>\n",
              "    </tr>\n",
              "  </thead>\n",
              "  <tbody>\n",
              "    <tr>\n",
              "      <th>0</th>\n",
              "      <td>82577</td>\n",
              "      <td>[Controversies, Coversations, Cutaneous, Laser...</td>\n",
              "      <td>4</td>\n",
              "      <td>Medical Books</td>\n",
              "    </tr>\n",
              "    <tr>\n",
              "      <th>1</th>\n",
              "      <td>79481</td>\n",
              "      <td>[Biostatistical, Analysis, th, Edition]</td>\n",
              "      <td>4</td>\n",
              "      <td>Medical Books</td>\n",
              "    </tr>\n",
              "    <tr>\n",
              "      <th>2</th>\n",
              "      <td>125658</td>\n",
              "      <td>[Conflict, Culture, Reader]</td>\n",
              "      <td>3</td>\n",
              "      <td>Law</td>\n",
              "    </tr>\n",
              "    <tr>\n",
              "      <th>3</th>\n",
              "      <td>201053</td>\n",
              "      <td>[Romania, Moldova, ITMB, Map, International, T...</td>\n",
              "      <td>5</td>\n",
              "      <td>Travel</td>\n",
              "    </tr>\n",
              "    <tr>\n",
              "      <th>4</th>\n",
              "      <td>204615</td>\n",
              "      <td>[Idaho, Magnificent, Wilderness]</td>\n",
              "      <td>5</td>\n",
              "      <td>Travel</td>\n",
              "    </tr>\n",
              "  </tbody>\n",
              "</table>\n",
              "</div>"
            ],
            "text/plain": [
              "       ID  ...           Type\n",
              "0   82577  ...  Medical Books\n",
              "1   79481  ...  Medical Books\n",
              "2  125658  ...            Law\n",
              "3  201053  ...         Travel\n",
              "4  204615  ...         Travel\n",
              "\n",
              "[5 rows x 4 columns]"
            ]
          },
          "metadata": {
            "tags": []
          },
          "execution_count": 6
        }
      ]
    },
    {
      "cell_type": "code",
      "metadata": {
        "colab": {
          "base_uri": "https://localhost:8080/"
        },
        "id": "a6sDMw43ozEe",
        "outputId": "2339bfb5-53e4-4f68-9c32-9db89c676782"
      },
      "source": [
        "train_data.info()"
      ],
      "execution_count": null,
      "outputs": [
        {
          "output_type": "stream",
          "text": [
            "<class 'pandas.core.frame.DataFrame'>\n",
            "RangeIndex: 47199 entries, 0 to 47198\n",
            "Data columns (total 4 columns):\n",
            " #   Column    Non-Null Count  Dtype \n",
            "---  ------    --------------  ----- \n",
            " 0   ID        47199 non-null  int64 \n",
            " 1   Text      47199 non-null  object\n",
            " 2   Category  47199 non-null  int64 \n",
            " 3   Type      47199 non-null  object\n",
            "dtypes: int64(2), object(2)\n",
            "memory usage: 1.4+ MB\n"
          ],
          "name": "stdout"
        }
      ]
    },
    {
      "cell_type": "code",
      "metadata": {
        "colab": {
          "base_uri": "https://localhost:8080/",
          "height": 417
        },
        "id": "K1-arxpCvVGL",
        "outputId": "6db31245-980a-4d0e-deed-b47319e8c77f"
      },
      "source": [
        "import matplotlib.pyplot as plt\n",
        "\n",
        "plt.suptitle('Category distribution', fontsize=20)\n",
        "\n",
        "train_data[\"Category\"].value_counts().plot.pie(figsize=(6,6))"
      ],
      "execution_count": null,
      "outputs": [
        {
          "output_type": "execute_result",
          "data": {
            "text/plain": [
              "<matplotlib.axes._subplots.AxesSubplot at 0x7f6ee19900b8>"
            ]
          },
          "metadata": {
            "tags": []
          },
          "execution_count": 18
        },
        {
          "output_type": "display_data",
          "data": {
            "image/png": "[encoded data removed]",
            "text/plain": [
              "<Figure size 432x432 with 1 Axes>"
            ]
          },
          "metadata": {
            "tags": []
          }
        }
      ]
    },
    {
      "cell_type": "code",
      "metadata": {
        "id": "IY5a1ViaJM5_",
        "colab": {
          "base_uri": "https://localhost:8080/"
        },
        "outputId": "244140ba-35a1-4371-a271-f77ef49cad9a"
      },
      "source": [
        "import re, string\n",
        "import nltk\n",
        "from nltk.corpus import stopwords\n",
        "\n",
        "nltk.download('stopwords')\n",
        "\n",
        "stop = set(stopwords.words('english'))\n",
        "def tokenize(text):\n",
        "    \"\"\"\n",
        "    sent_tokenize(): segment text into sentences\n",
        "    word_tokenize(): break sentences into words\n",
        "    \"\"\"\n",
        "    try: \n",
        "        regex = re.compile('[' +re.escape(string.punctuation) + '0-9\\\\r\\\\t\\\\n]')\n",
        "        text = regex.sub(\" \", text) # remove punctuation\n",
        "        \n",
        "        tokens_ = [nltk.word_tokenize(s) for s in nltk.sent_tokenize(text)]\n",
        "        tokens = []\n",
        "        for token_by_sent in tokens_:\n",
        "            tokens += token_by_sent\n",
        "        tokens = list(filter(lambda t: t.lower() not in stop, tokens))\n",
        "        filtered_tokens = [w for w in tokens if re.search('[a-zA-Z]', w)]\n",
        "        \n",
        "        return filtered_tokens\n",
        "            \n",
        "    except TypeError as e: print(text,e)\n"
      ],
      "execution_count": null,
      "outputs": [
        {
          "output_type": "stream",
          "text": [
            "[nltk_data] Downloading package stopwords to /root/nltk_data...\n",
            "[nltk_data]   Unzipping corpora/stopwords.zip.\n"
          ],
          "name": "stdout"
        }
      ]
    },
    {
      "cell_type": "code",
      "metadata": {
        "id": "ZX4ivNKZJdzE"
      },
      "source": [
        "import re\n",
        "# apply the tokenizer into the item descriptipn column\n",
        "nltk.download('punkt')\n",
        "train_data['Text'] = train_data['Text'].map(tokenize)\n",
        "test_data['Text']= test_data['Text'].map(tokenize)\n",
        "\n",
        "train_data.head()"
      ],
      "execution_count": null,
      "outputs": []
    },
    {
      "cell_type": "code",
      "metadata": {
        "id": "M6WdqxYJF3J8"
      },
      "source": [
        "#def split_cat(text):\n",
        "#  try: return text.split(\"/\")\n",
        "#  except: return (\"No Label\", \"No Label\", \"No Label\")\n",
        "\n",
        "\n",
        "#zip(*train_data['Text'].apply(lambda x: split_cat(x)))\n",
        "#train_data.head()"
      ],
      "execution_count": null,
      "outputs": []
    },
    {
      "cell_type": "code",
      "metadata": {
        "colab": {
          "base_uri": "https://localhost:8080/",
          "height": 198
        },
        "id": "7yEF9L5ivhXu",
        "outputId": "dcb11853-407a-448f-bc68-562e8f591114"
      },
      "source": [
        "import re\n",
        "import string\n",
        "i=0\n",
        "result=[]\n",
        "#def tokenization()\n",
        "\n",
        "\n",
        "from nltk.stem.snowball import SnowballStemmer\n",
        "\n",
        "stemmer = SnowballStemmer('english')\n",
        "\n",
        "def str_stemmer(s):\n",
        "    return \" \".join([stemmer.stem(word) for word in s])#def str_common_word(str1, str2):\n",
        "    return sum(int(str2.find(word)>=0) for word in str1.split())\n",
        "train_data['Text'] = train_data['Text'].map(lambda x:str_stemmer(x))\n",
        "test_data['Text'] = test_data['Text'].map(lambda x:str_stemmer(x))\n",
        "train_data.head()\n",
        "\n",
        "#for i in range (0,10):\n",
        "  #input_str = \"Box A contains 3 red and 5 white balls, while Box B contains 4 red and 2 blue balls.\"\n",
        "  #result += re.sub(r'\\d+', '', train_data)\n",
        "  #result = input_str.translate(string.maketrans(\"\",\"\"),string.punctuation)\n",
        "  #result += ' '.join(result.split())\n",
        "#print(result[:10])\n",
        "\n",
        "#def str_stemmer(s):\n",
        "#    return \" \".join([stemmer.stem(word) for word in s.lower().split()])\n",
        "#def str_common_word(str1, str2):\n",
        "#    return sum(int(str2.find(word)>=0) for word in str1.split())\n",
        "#all_data['Text'] = all_data['Text'].map(lambda x:str_stemmer(x))\n",
        "#all_data.head()\n"
      ],
      "execution_count": null,
      "outputs": [
        {
          "output_type": "execute_result",
          "data": {
            "text/html": [
              "<div>\n",
              "<style scoped>\n",
              "    .dataframe tbody tr th:only-of-type {\n",
              "        vertical-align: middle;\n",
              "    }\n",
              "\n",
              "    .dataframe tbody tr th {\n",
              "        vertical-align: top;\n",
              "    }\n",
              "\n",
              "    .dataframe thead th {\n",
              "        text-align: right;\n",
              "    }\n",
              "</style>\n",
              "<table border=\"1\" class=\"dataframe\">\n",
              "  <thead>\n",
              "    <tr style=\"text-align: right;\">\n",
              "      <th></th>\n",
              "      <th>ID</th>\n",
              "      <th>Text</th>\n",
              "      <th>Category</th>\n",
              "      <th>Type</th>\n",
              "    </tr>\n",
              "  </thead>\n",
              "  <tbody>\n",
              "    <tr>\n",
              "      <th>0</th>\n",
              "      <td>82577</td>\n",
              "      <td>controversi covers cutan laser surgeri</td>\n",
              "      <td>4</td>\n",
              "      <td>Medical Books</td>\n",
              "    </tr>\n",
              "    <tr>\n",
              "      <th>1</th>\n",
              "      <td>79481</td>\n",
              "      <td>biostatist analysi th edit</td>\n",
              "      <td>4</td>\n",
              "      <td>Medical Books</td>\n",
              "    </tr>\n",
              "    <tr>\n",
              "      <th>2</th>\n",
              "      <td>125658</td>\n",
              "      <td>conflict cultur reader</td>\n",
              "      <td>3</td>\n",
              "      <td>Law</td>\n",
              "    </tr>\n",
              "    <tr>\n",
              "      <th>3</th>\n",
              "      <td>201053</td>\n",
              "      <td>romania moldova itmb map intern travel map</td>\n",
              "      <td>5</td>\n",
              "      <td>Travel</td>\n",
              "    </tr>\n",
              "    <tr>\n",
              "      <th>4</th>\n",
              "      <td>204615</td>\n",
              "      <td>idaho magnific wilder</td>\n",
              "      <td>5</td>\n",
              "      <td>Travel</td>\n",
              "    </tr>\n",
              "  </tbody>\n",
              "</table>\n",
              "</div>"
            ],
            "text/plain": [
              "       ID                                        Text  Category           Type\n",
              "0   82577      controversi covers cutan laser surgeri         4  Medical Books\n",
              "1   79481                  biostatist analysi th edit         4  Medical Books\n",
              "2  125658                      conflict cultur reader         3            Law\n",
              "3  201053  romania moldova itmb map intern travel map         5         Travel\n",
              "4  204615                       idaho magnific wilder         5         Travel"
            ]
          },
          "metadata": {
            "tags": []
          },
          "execution_count": 7
        }
      ]
    },
    {
      "cell_type": "markdown",
      "metadata": {
        "id": "KGCqnUGFmTl2"
      },
      "source": [
        "Tokenize"
      ]
    },
    {
      "cell_type": "code",
      "metadata": {
        "id": "VvCDwSSYmRPh"
      },
      "source": [
        "train_data['Text'] = train_data['Text'].map(tokenize)\n",
        "test_data['Text']= test_data['Text'].map(tokenize)\n"
      ],
      "execution_count": null,
      "outputs": []
    },
    {
      "cell_type": "code",
      "metadata": {
        "colab": {
          "base_uri": "https://localhost:8080/",
          "height": 198
        },
        "id": "V9iFZynaH1OL",
        "outputId": "0ab7f01a-3b60-4c10-988f-1f98dd21270a"
      },
      "source": [
        "test_data.head()"
      ],
      "execution_count": null,
      "outputs": [
        {
          "output_type": "execute_result",
          "data": {
            "text/html": [
              "<div>\n",
              "<style scoped>\n",
              "    .dataframe tbody tr th:only-of-type {\n",
              "        vertical-align: middle;\n",
              "    }\n",
              "\n",
              "    .dataframe tbody tr th {\n",
              "        vertical-align: top;\n",
              "    }\n",
              "\n",
              "    .dataframe thead th {\n",
              "        text-align: right;\n",
              "    }\n",
              "</style>\n",
              "<table border=\"1\" class=\"dataframe\">\n",
              "  <thead>\n",
              "    <tr style=\"text-align: right;\">\n",
              "      <th></th>\n",
              "      <th>ID</th>\n",
              "      <th>Text</th>\n",
              "    </tr>\n",
              "  </thead>\n",
              "  <tbody>\n",
              "    <tr>\n",
              "      <th>0</th>\n",
              "      <td>202985</td>\n",
              "      <td>[Argentina, Bolivia, Brazil, Chile, Paraguay, ...</td>\n",
              "    </tr>\n",
              "    <tr>\n",
              "      <th>1</th>\n",
              "      <td>75315</td>\n",
              "      <td>[Solaris, System, Administrator, Exam, Cram, E...</td>\n",
              "    </tr>\n",
              "    <tr>\n",
              "      <th>2</th>\n",
              "      <td>75976</td>\n",
              "      <td>[Computer, Science, Illuminated]</td>\n",
              "    </tr>\n",
              "    <tr>\n",
              "      <th>3</th>\n",
              "      <td>192608</td>\n",
              "      <td>[Mosambik, Malawi, Mozambique, Malawi, Mocambi...</td>\n",
              "    </tr>\n",
              "    <tr>\n",
              "      <th>4</th>\n",
              "      <td>82492</td>\n",
              "      <td>[Diario, de, un, cuidador, Plataforma, actual,...</td>\n",
              "    </tr>\n",
              "  </tbody>\n",
              "</table>\n",
              "</div>"
            ],
            "text/plain": [
              "       ID                                               Text\n",
              "0  202985  [Argentina, Bolivia, Brazil, Chile, Paraguay, ...\n",
              "1   75315  [Solaris, System, Administrator, Exam, Cram, E...\n",
              "2   75976                   [Computer, Science, Illuminated]\n",
              "3  192608  [Mosambik, Malawi, Mozambique, Malawi, Mocambi...\n",
              "4   82492  [Diario, de, un, cuidador, Plataforma, actual,..."
            ]
          },
          "metadata": {
            "tags": []
          },
          "execution_count": 4
        }
      ]
    },
    {
      "cell_type": "markdown",
      "metadata": {
        "id": "B6WY8RLZJXve"
      },
      "source": [
        "\n",
        "\n",
        "---\n",
        "Word\n"
      ]
    },
    {
      "cell_type": "code",
      "metadata": {
        "id": "515cAAYOxVEP"
      },
      "source": [
        "from nltk import word_tokenize\n",
        "import nltk\n",
        "# Download punkt:\n",
        "#import nltk\n",
        "#nltk.download('punkt')\n",
        "\n",
        "i=0\n",
        "tokens=[]\n",
        "for i in range(0,num_of_train):\n",
        "  tokens += nltk.word_tokenize(train_text[i])\n",
        "print(tokens[:10])"
      ],
      "execution_count": null,
      "outputs": []
    },
    {
      "cell_type": "markdown",
      "metadata": {
        "id": "DQTBYvKjJaek"
      },
      "source": [
        "\n",
        "\n",
        "---\n",
        "Root\n"
      ]
    },
    {
      "cell_type": "code",
      "metadata": {
        "id": "aMzkb5CeKrcs"
      },
      "source": [
        "from nltk.stem.snowball import SnowballStemmer\n",
        "\n",
        "stemmer = SnowballStemmer('english')\n",
        "def str_stemmer(s):\n",
        "    return \" \".join([stemmer.stem(word) for word in s.lower().split()])\n",
        "def str_common_word(str1, str2):\n",
        "    return sum(int(str2.find(word)>=0) for word in str1.split())\n",
        "all_data['Text'] = all_data['Text'].map(lambda x:str_stemmer(x))\n",
        "all_data.head()\n"
      ],
      "execution_count": null,
      "outputs": []
    },
    {
      "cell_type": "markdown",
      "metadata": {
        "id": "hGlugB5OJuVf"
      },
      "source": [
        "\n",
        "Get a list of useful words in the sentence, remove unnecessary punctuation, salutations, and then characterize it"
      ]
    },
    {
      "cell_type": "code",
      "metadata": {
        "id": "3j8jdrxBIUFy",
        "colab": {
          "base_uri": "https://localhost:8080/"
        },
        "outputId": "40a5ccc5-c1f0-4f3c-c329-68084ed19e85"
      },
      "source": [
        "print(train_text[:10])"
      ],
      "execution_count": null,
      "outputs": [
        {
          "output_type": "stream",
          "text": [
            "[['Controversies', 'Coversations', 'Cutaneous', 'Laser', 'Surgery'], ['Biostatistical', 'Analysis', 'th', 'Edition'], ['Conflict', 'Culture', 'Reader'], ['Romania', 'Moldova', 'ITMB', 'Map', 'International', 'Travel', 'Maps'], ['Idaho', 'Magnificent', 'Wilderness'], ['Fundamental', 'Trial', 'Advocacy', 'American', 'Casebook', 'Series'], ['Fodor', 'Dominican', 'Republic', 'nd', 'Edition', 'Travel', 'Guide'], ['Concise', 'Book', 'Yoga', 'Anatomy', 'Illustrated', 'Guide', 'Science', 'Motion'], ['Models', 'Life'], ['Residential', 'Mortgage', 'Loan', 'Origination', 'Made', 'Easy']]\n"
          ],
          "name": "stdout"
        }
      ]
    },
    {
      "cell_type": "markdown",
      "metadata": {
        "id": "7u25A9iEDdFx"
      },
      "source": [
        "NLP Six steps\n",
        "\n",
        "-tokenization\n",
        "\n",
        "-stemming\n",
        "\n",
        "-lemmatization\n",
        "\n",
        "-pos tags\n",
        "\n",
        "-ner\n",
        "\n",
        "-chunking"
      ]
    },
    {
      "cell_type": "markdown",
      "metadata": {
        "id": "z31OKf5RJOKl"
      },
      "source": [
        "\n",
        "\n",
        "---\n",
        "Complete word segmentation: re-read the data\n"
      ]
    },
    {
      "cell_type": "code",
      "metadata": {
        "id": "Xy3p6zfBJlJV"
      },
      "source": [
        "# obtain and count the text data\n",
        "train_text = list(train_data['Text'])\n",
        "test_text = list(test_data['Text'])\n",
        "num_of_train = len(train_text)\n",
        "num_of_test = len(test_text)\n",
        "#print(num_of_train)\n",
        "\n",
        "# labels of training data\n",
        "train_label = list(train_data['Category'])\n"
      ],
      "execution_count": null,
      "outputs": []
    },
    {
      "cell_type": "code",
      "metadata": {
        "colab": {
          "base_uri": "https://localhost:8080/"
        },
        "id": "yGlsd_baZO1m",
        "outputId": "cea78234-152f-469a-89a5-e58f6154e116"
      },
      "source": [
        "print(train_text[:10])"
      ],
      "execution_count": null,
      "outputs": [
        {
          "output_type": "stream",
          "text": [
            "[['Controversies', 'Coversations', 'Cutaneous', 'Laser', 'Surgery'], ['Biostatistical', 'Analysis', 'th', 'Edition'], ['Conflict', 'Culture', 'Reader'], ['Romania', 'Moldova', 'ITMB', 'Map', 'International', 'Travel', 'Maps'], ['Idaho', 'Magnificent', 'Wilderness'], ['Fundamental', 'Trial', 'Advocacy', 'American', 'Casebook', 'Series'], ['Fodor', 'Dominican', 'Republic', 'nd', 'Edition', 'Travel', 'Guide'], ['Concise', 'Book', 'Yoga', 'Anatomy', 'Illustrated', 'Guide', 'Science', 'Motion'], ['Models', 'Life'], ['Residential', 'Mortgage', 'Loan', 'Origination', 'Made', 'Easy']]\n"
          ],
          "name": "stdout"
        }
      ]
    },
    {
      "cell_type": "code",
      "metadata": {
        "id": "GbW5rjtbprAQ",
        "colab": {
          "base_uri": "https://localhost:8080/"
        },
        "outputId": "40a561a0-9fad-4e11-8461-49b72f2fd5b8"
      },
      "source": [
        "print(test_text[:10])\n",
        "#len(train_text)=47199\n",
        "print(num_of_train)"
      ],
      "execution_count": null,
      "outputs": [
        {
          "output_type": "stream",
          "text": [
            "[['Argentina', 'Bolivia', 'Brazil', 'Chile', 'Paraguay', 'Uruguay', 'Super', 'Atlas'], ['Solaris', 'System', 'Administrator', 'Exam', 'Cram', 'Exam'], ['Computer', 'Science', 'Illuminated'], ['Mosambik', 'Malawi', 'Mozambique', 'Malawi', 'Mocambique', 'Malawi', 'German', 'English', 'Edition'], ['Diario', 'de', 'un', 'cuidador', 'Plataforma', 'actual', 'Spanish', 'Edition'], ['Fodor', 'Thailand', 'th', 'Edition', 'Side', 'Trips', 'Cambodia', 'Laos', 'Full', 'color', 'Travel', 'Guide'], ['Economic', 'Dynamics', 'Changing', 'World'], ['Tunis', 'National', 'Geographic', 'Destination', 'City', 'Map'], ['Ekgs', 'Ecgs', 'Quick', 'Study', 'Academic'], ['Guide', 'ICSID', 'Arbitration', 'nd', 'Edition', 'Revised']]\n",
            "47199\n"
          ],
          "name": "stdout"
        }
      ]
    },
    {
      "cell_type": "markdown",
      "metadata": {
        "id": "tHZI7-JSyPkK"
      },
      "source": [
        "\n",
        "\n",
        "---\n",
        "Word2vec\n",
        "\n"
      ]
    },
    {
      "cell_type": "code",
      "metadata": {
        "colab": {
          "base_uri": "https://localhost:8080/"
        },
        "id": "_8GeKRr6BBAj",
        "outputId": "18b17b6d-e5db-40d4-ba99-ac79387e1656"
      },
      "source": [
        "#nltk.download('gutenberg')\n",
        "#corpus = nltk.corpus.gutenberg.fileids()\n",
        "corpus = train_text + test_text\n",
        "print(corpus[:5])"
      ],
      "execution_count": null,
      "outputs": [
        {
          "output_type": "stream",
          "text": [
            "[['Controversies', 'Coversations', 'Cutaneous', 'Laser', 'Surgery'], ['Biostatistical', 'Analysis', 'th', 'Edition'], ['Conflict', 'Culture', 'Reader'], ['Romania', 'Moldova', 'ITMB', 'Map', 'International', 'Travel', 'Maps'], ['Idaho', 'Magnificent', 'Wilderness']]\n"
          ],
          "name": "stdout"
        }
      ]
    },
    {
      "cell_type": "code",
      "metadata": {
        "id": "LkAAVgLbDvY5",
        "colab": {
          "base_uri": "https://localhost:8080/"
        },
        "outputId": "cfb446d4-f277-4132-d920-6d41bdfca4ad"
      },
      "source": [
        "\n",
        "import gensim\n",
        "import gensim.downloader as gensim_api## for deep learning\n",
        "#nlp = gensim_api.load(\"word2vec-google-news-300\")\n",
        "# Train word2vec\n",
        "from gensim.models.word2vec import Word2Vec\n",
        "\n",
        "model = gensim.models.Word2Vec(corpus,min_count =1, size=200，sg=1)   # X是经分词后的文本构成的list，也就是tokens的列表的列表\n",
        "#embeddings_index = dict(zip(model.wv.index2word, model.wv.vectors))\n",
        "print(model)"
      ],
      "execution_count": null,
      "outputs": [
        {
          "output_type": "stream",
          "text": [
            "Word2Vec(vocab=38001, size=200, alpha=0.025)\n"
          ],
          "name": "stdout"
        }
      ]
    },
    {
      "cell_type": "code",
      "metadata": {
        "id": "4hoB2-gJay_k"
      },
      "source": [
        "def changes(s):\n",
        "  Sen_vec=[]\n",
        "  content = 0\n",
        "  for sentence in s:\n",
        "    words = sentence.split()\n",
        "    word_vec=np.zeros(200)\n",
        "    content += 1\n",
        "    for w in words:\n",
        "      if w in model:\n",
        "        word_vec += model[w]\n",
        "        #print(word_vec)#np.array\n",
        "    Sen_vec.append(word_vec/len(words))\n",
        "    #print(content,len(s))\n",
        "  return Sen_vec\n",
        "\n",
        "#zip(*train_data['Text'].apply(lambda x: split_cat(x)))\n",
        "Changes_train = changes(train_text)\n",
        "Changes_test = changes(test_text)\n",
        "#print(Changes_train[:10])\n",
        "\n"
      ],
      "execution_count": null,
      "outputs": []
    },
    {
      "cell_type": "code",
      "metadata": {
        "id": "o9FVzKPsdtOs"
      },
      "source": [
        ""
      ],
      "execution_count": null,
      "outputs": []
    },
    {
      "cell_type": "code",
      "metadata": {
        "id": "WV9WGAvR3aPc"
      },
      "source": [
        "\n",
        "def sent2vec(s):\n",
        "  words = str(s).lower()\n",
        "  words = [w for w in words]\n",
        "  M = []\n",
        "  for w in words:\n",
        "    try:\n",
        "      #M.append(embeddings_index[w])\n",
        "      M.append(model[w])\n",
        "    except:\n",
        "      continue\n",
        "  M = np.array(M)\n",
        "  v = M.sum(axis=0)\n",
        "  if type(v) != np.ndarray:\n",
        "    return np.zeros(200)\n",
        "  return v / np.sqrt((v ** 2).sum())"
      ],
      "execution_count": null,
      "outputs": []
    },
    {
      "cell_type": "code",
      "metadata": {
        "id": "CmcJqKfeIYTD",
        "colab": {
          "base_uri": "https://localhost:8080/"
        },
        "outputId": "59da33a9-f7cf-4bed-c603-8f4ec39ce983"
      },
      "source": [
        "from tqdm import tqdm\n",
        "\n",
        "xtrain_w2v = [sent2vec(x) for x in tqdm(train_text)]\n",
        "xvalid_w2v = [sent2vec(x) for x in tqdm(test_text)]"
      ],
      "execution_count": null,
      "outputs": [
        {
          "output_type": "stream",
          "text": [
            "  0%|          | 0/47199 [00:00<?, ?it/s]/usr/local/lib/python3.6/dist-packages/ipykernel_launcher.py:9: DeprecationWarning: Call to deprecated `__getitem__` (Method will be removed in 4.0.0, use self.wv.__getitem__() instead).\n",
            "  if __name__ == '__main__':\n",
            "100%|██████████| 47199/47199 [00:10<00:00, 4417.15it/s]\n",
            "100%|██████████| 20229/20229 [00:04<00:00, 4489.85it/s]\n"
          ],
          "name": "stderr"
        }
      ]
    },
    {
      "cell_type": "code",
      "metadata": {
        "id": "LlxU73Y4WU5Y"
      },
      "source": [
        "#testxtrain_w2v\n",
        "print(xtrain_w2v[:5])\n"
      ],
      "execution_count": null,
      "outputs": []
    },
    {
      "cell_type": "code",
      "metadata": {
        "colab": {
          "base_uri": "https://localhost:8080/"
        },
        "id": "jRJqJwipO3VQ",
        "outputId": "0562367d-fced-413b-99d4-39261d9c980e"
      },
      "source": [
        "#print(xtrain_w2v[:10])\n",
        "#len(xtrain_w2v)\n",
        "ArrayXtrain=np.mean(xtrain_w2v, axis=1)\n",
        "ArrayXvalid=np.mean(xvalid_w2v, axis=1)\n",
        "print(ArrayXtrain)"
      ],
      "execution_count": null,
      "outputs": [
        {
          "output_type": "stream",
          "text": [
            "[0.00296937 0.00421691 0.0036444  ... 0.00228706 0.00413914 0.00079297]\n"
          ],
          "name": "stdout"
        }
      ]
    },
    {
      "cell_type": "code",
      "metadata": {
        "id": "sifTkaHSHT-3"
      },
      "source": [
        "word_vec=0\n",
        "Sen_vec=0\n",
        "Last=[]\n",
        "for word in xtrain_w2v:\n",
        "  if i in word: \n",
        "    word_vec += np.array([i])\n",
        "    Sen_vec = word_vec/len(word)\n",
        "  Last.append(Sen_vec)"
      ],
      "execution_count": null,
      "outputs": []
    },
    {
      "cell_type": "code",
      "metadata": {
        "id": "J7GGI04XISyf"
      },
      "source": [
        "print(Last[:10])"
      ],
      "execution_count": null,
      "outputs": []
    },
    {
      "cell_type": "code",
      "metadata": {
        "id": "b-niOWVcbqnS"
      },
      "source": [
        "#from tqdm import tqdm\n",
        "#xtrain_w2v = [Change_into_vector(x) for x in tqdm(train_data)]\n",
        "#xvalid_w2v = [Change_into_vector(x) for x in tqdm(test_data)]\n",
        "#print(xtrain_w2v)\n",
        "\n",
        "word_vec=(1,100)\n",
        "#List: Find the average vector of a single sentence\n",
        "#for w in range(len(xtrain_w2v[1])): #only integer scalar arrays can be converted to a scalar index \n",
        "#Using an indexed list to index another list is also not allowed\n",
        "#  VEC = Vec / len(xtrain_w2v[1])\n",
        "for i in train_text:\n",
        "  if w in i: \n",
        "   word_vec += np.array([model[w]])\n",
        "\n",
        "\n",
        "\n",
        "train_xdata=train_data['Text'].apply(Change_into_vector)\n",
        "train_xdata.head()\n",
        "\n",
        "\n"
      ],
      "execution_count": null,
      "outputs": []
    },
    {
      "cell_type": "markdown",
      "metadata": {
        "id": "4ci-iPBCJgho"
      },
      "source": [
        "\n",
        "\n",
        "---\n",
        "#Model\n",
        "\n",
        "\n"
      ]
    },
    {
      "cell_type": "code",
      "metadata": {
        "id": "Nb562OMcVCDY"
      },
      "source": [
        "xtrain_w2v = np.array(xtrain_w2v)\n",
        "xvalid_w2v = np.array(xvalid_w2v)\n"
      ],
      "execution_count": null,
      "outputs": []
    },
    {
      "cell_type": "code",
      "metadata": {
        "id": "cww-tQi8UWkr"
      },
      "source": [
        "#from sklearn.model_selection import train_test_split\n",
        "#X_train, X_test, y_train, y_test = train_test_split(xtrain_w2v, train_label, test_size=0.15, random_state=42)"
      ],
      "execution_count": null,
      "outputs": []
    },
    {
      "cell_type": "code",
      "metadata": {
        "id": "6gtrpUh9EFpw"
      },
      "source": [
        "#print(X_train)"
      ],
      "execution_count": null,
      "outputs": []
    },
    {
      "cell_type": "code",
      "metadata": {
        "id": "ZibSLzd8UQ4l"
      },
      "source": [
        "import xgboost as xgb\n",
        "\n",
        "param = {'objective':'multi:softmax','num_class': 6,}#objective=multisoftmax\n",
        "clf = xgb.XGBClassifier(nthread=10, **param, max_depth=10, silent=False, lr=0.1)\n",
        "clf.fit(xtrain_w2v, train_label)\n",
        "#predictions = clf.predict_proba(X_test)\n",
        "\n",
        "\n",
        "#print(classification_report(predictions, y_test))"
      ],
      "execution_count": null,
      "outputs": []
    },
    {
      "cell_type": "markdown",
      "metadata": {
        "id": "MnCrHVJgqbBG"
      },
      "source": [
        "2*，Allows to fill directly in dictionary format param\n",
        "http://codewithzhangyi.com/2018/06/01/XGBOOST%E4%BD%BF%E7%94%A8%E8%AF%B4%E6%98%8E/\n"
      ]
    },
    {
      "cell_type": "code",
      "metadata": {
        "colab": {
          "base_uri": "https://localhost:8080/"
        },
        "id": "l7N4DmUXCIVV",
        "outputId": "01e9e3a7-7ccc-47dc-a24c-13a19ed677ba"
      },
      "source": [
        "CVtest_data = xvalid_w2v\n",
        "\n",
        "df_sub = pd.read_csv('sample_submission.csv', sep=',')\n",
        "df_sub['Category'] = clf.predict(xvalid_w2v)#https://stackoverflow.com/questions/52577999/feature-names-mismach-in-xgboost-despite-having-same-columns\n",
        "df_sub.to_csv ('my_sample_submission2.csv', index = False, header=True)\n",
        "print('done!')\n"
      ],
      "execution_count": null,
      "outputs": [
        {
          "output_type": "stream",
          "text": [
            "done!\n"
          ],
          "name": "stdout"
        }
      ]
    },
    {
      "cell_type": "markdown",
      "metadata": {
        "id": "J1JkqcDoCMeM"
      },
      "source": [
        "\n",
        "Word2vec + KNN\n",
        "---\n",
        "\n",
        "\n",
        "\n",
        "---\n",
        "\n",
        "\n",
        "\n",
        "---\n",
        "\n"
      ]
    },
    {
      "cell_type": "code",
      "metadata": {
        "id": "bCNz1YfKJjkz"
      },
      "source": [
        "centroids = {} # key: label, value: array (sum of features belonging to the same category)\n",
        "counter = {} # key: label, value: # of data belonging to the same category\n",
        "num_of_features = 200\n",
        "\n",
        "for i in range(num_of_train):\n",
        "    label = train_label[i]\n",
        "    if label not in centroids.keys():\n",
        "        centroids[label] = np.zeros(num_of_features)\n",
        "        counter[label] = 0\n",
        "    centroids[label] += Changes_train[i]\n",
        "    counter[label] += 1\n",
        "\n",
        "# average value\n",
        "for k, v in centroids.items():\n",
        "    centroids[k] = v/counter[k]\n",
        "\n"
      ],
      "execution_count": null,
      "outputs": []
    },
    {
      "cell_type": "code",
      "metadata": {
        "colab": {
          "base_uri": "https://localhost:8080/"
        },
        "id": "APT2fZqORfmU",
        "outputId": "b6632a75-85e3-4a48-ee3b-d2cf238517f2"
      },
      "source": [
        "\n",
        "# testing: for each data in the test set, we can calculate the euclidean distance between the data feature and each centroid\n",
        "# the label with the smallest distance can be considered as the prediction\n",
        "print('Testing ...')\n",
        "prediction = []\n",
        "for i in range(num_of_test):\n",
        "    test_i = Changes_test [i]\n",
        "    \n",
        "    smallest_distance = 1000000000000\n",
        "    for k, v in centroids.items():\n",
        "        dst = distance.euclidean(test_i, v)\n",
        "        if dst < smallest_distance:\n",
        "            smallest_distance = dst\n",
        "            pred = k\n",
        "    prediction.append(pred)\n"
      ],
      "execution_count": null,
      "outputs": [
        {
          "output_type": "stream",
          "text": [
            "Testing ...\n"
          ],
          "name": "stdout"
        }
      ]
    },
    {
      "cell_type": "code",
      "metadata": {
        "colab": {
          "base_uri": "https://localhost:8080/"
        },
        "id": "Im5qNrH4Ro8e",
        "outputId": "f12c5b6a-8b91-407c-c1b2-9e831a2d2b5b"
      },
      "source": [
        "# write to submission file\n",
        "df_sub = pd.read_csv('sample_submission.csv', sep=',')\n",
        "df_sub['Category'] = prediction\n",
        "df_sub.to_csv ('my_sample_submission.csv', index = False, header=True)\n",
        "print('done!')\n"
      ],
      "execution_count": null,
      "outputs": [
        {
          "output_type": "stream",
          "text": [
            "done!\n"
          ],
          "name": "stdout"
        }
      ]
    },
    {
      "cell_type": "code",
      "metadata": {
        "id": "ohTS7oWlL5cX"
      },
      "source": [
        "\n",
        "from sklearn.ensemble import RandomForestClassifier\n",
        "from sklearn import svm\n",
        "svd = decomposition.TruncatedSVD(n_components=120)\n",
        "svd.fit(xtrain_tfv)\n",
        "xtrain_svd = svd.transform(xtrain_tfv)\n",
        "xvalid_svd = svd.transform(xvalid_tfv)\n",
        "\n",
        "#Scale the data obtained from SVD\n",
        "scl = preprocessing.StandardScaler()\n",
        "scl.fit(xtrain_svd)\n",
        "xtrain_svd_scl = scl.transform(xtrain_svd)\n"
      ],
      "execution_count": null,
      "outputs": []
    },
    {
      "cell_type": "markdown",
      "metadata": {
        "id": "0WUD2YfuPgtw"
      },
      "source": [
        "wikipedia2vec： https://wikipedia2vec.github.io/wikipedia2vec/"
      ]
    },
    {
      "cell_type": "code",
      "metadata": {
        "id": "GxqhyijO7ycc"
      },
      "source": [
        "train_w2v = Word2Vec(train_text,min_count=5,size=50, workers=4)\n",
        "i=0\n",
        "avg_data=[]\n",
        "for i in train_text:         #Calculate the average word vector, representing the sentence vector\n",
        "    vec = np.zeros(50)\n",
        "    count = 0\n",
        "    for word in train_text:\n",
        "        try:\n",
        "            vec += train_w2v[word]\n",
        "            count += 1\n",
        "        except:\n",
        "            pass\n",
        "    avg_data.append(vec/count)  \n",
        "print(avg_data[1])"
      ],
      "execution_count": null,
      "outputs": []
    },
    {
      "cell_type": "markdown",
      "metadata": {
        "id": "s1bqkC4WKhQE"
      },
      "source": [
        "\n",
        "\n",
        "---\n",
        "2\n",
        "  \n",
        "Tf-idf feature vectorization method\n",
        "\n",
        "TF - IDF + ML classifier\n"
      ]
    },
    {
      "cell_type": "code",
      "metadata": {
        "id": "oLbUX70ZkbXw"
      },
      "source": [
        "import pandas as pd\n",
        "\n",
        "from sklearn.feature_extraction.text import TfidfVectorizer\n",
        "from sklearn.linear_model import RidgeClassifier\n",
        "from sklearn.metrics import f1_score\n",
        "\n",
        "\n",
        "\n",
        "tfidf = TfidfVectorizer(ngram_range=(1,3), max_features=5000)\n",
        "CVtrain_test = tfidf.fit_transform(train_data['Text'])\n",
        "\n",
        "clf = RidgeClassifier()\n",
        "clf.fit(CVtrain_test, train_label)\n",
        "\n",
        "val_pred = clf.predict(CVtrain_test)\n",
        "print(f1_score(train_label, val_pred, average='macro'))"
      ],
      "execution_count": null,
      "outputs": []
    },
    {
      "cell_type": "code",
      "metadata": {
        "id": "dZUA7AiekfQW",
        "colab": {
          "base_uri": "https://localhost:8080/"
        },
        "outputId": "65944d04-ee6e-46a3-f05e-10e0b30d869c"
      },
      "source": [
        "# write to submission file\n",
        "#len(train_text)=47199, size of test data is (20229, 2)\n",
        "CVtest_data = tfidf.fit_transform(test_data['Text'])\n",
        "df_sub = pd.read_csv('sample_submission.csv', sep=',')\n",
        "df_sub['Category'] = clf.predict(CVtest_data)\n",
        "df_sub.to_csv ('my_sample_submission.csv', index = False, header=True)\n",
        "print('done!')\n"
      ],
      "execution_count": null,
      "outputs": [
        {
          "output_type": "stream",
          "text": [
            "done!\n"
          ],
          "name": "stdout"
        }
      ]
    },
    {
      "cell_type": "markdown",
      "metadata": {
        "id": "-qYWWjHtdsxp"
      },
      "source": [
        "\n",
        "\n",
        "---\n",
        "\n"
      ]
    },
    {
      "cell_type": "code",
      "metadata": {
        "id": "STyWNuZid5IU"
      },
      "source": [
        "CVtest_data = xvalid_w2v\n",
        "df_sub = pd.read_csv('sample_submission.csv', sep=',')\n",
        "df_sub['Category'] = clf.predict(CVtest_data)\n",
        "df_sub.to_csv ('my_sample_submission.csv', index = False, header=True)\n",
        "print('done!')"
      ],
      "execution_count": null,
      "outputs": []
    },
    {
      "cell_type": "markdown",
      "metadata": {
        "id": "CWEDpy6qLMdw"
      },
      "source": [
        "Reference：\n",
        "https://blog.csdn.net/sinat_15355869/article/details/80102311 Kaggle - Home Depot Product Search Relevance Basic\n",
        "\n",
        "https://www.kaggle.com/thykhuely/mercari-interactive-eda-topic-modelling?rvi=1 Mercari Interactive EDA + Topic Modelling\n",
        "\n",
        "https://blog.csdn.net/qq_35290785/article/details/94493333 Tokenization\n",
        "\n",
        "http://www.nltk.org/book/ NLTK.ORG\n",
        "\n",
        "https://blog.csdn.net/HuangZhang_123/article/details/80277793 Python NLP（基于jieba AND NLTK）"
      ]
    },
    {
      "cell_type": "code",
      "metadata": {
        "colab": {
          "base_uri": "https://localhost:8080/"
        },
        "id": "8fZDeWBjBBak",
        "outputId": "7afbecc7-c08c-4bac-a9d0-8db01dcff264"
      },
      "source": [
        "import numpy as np\n",
        "list=[-0.20866549, -0.14264104,  0.10111469,  0.0252558 ,  0.06410508,\n",
        "        0.06426861,  0.02962446, -0.04348877,  0.00951611, -0.15758263,\n",
        "       -0.14432888,  0.08945545, -0.18799594, -0.01417547,  0.13889073,\n",
        "        0.01139114, -0.13438474,  0.07517149,  0.07047772,  0.0362749 ,\n",
        "        0.10961531, -0.09310903,  0.07571521, -0.01006739, -0.00797688,\n",
        "        0.0288635 ,  0.06999539,  0.12708558,  0.16112128,  0.17821068,\n",
        "        0.13798022, -0.19913429,  0.03759824, -0.19891424, -0.03031608,\n",
        "       -0.09215274, -0.02015548,  0.16555147,  0.04820852,  0.0179149 ,\n",
        "       -0.07682982, -0.19049297, -0.11184306, -0.06490821,  0.05116422,\n",
        "       -0.00346872,  0.07934512,  0.03402076,  0.1503725 , -0.02174232,\n",
        "       -0.054088  , -0.14180477, -0.09780042,  0.0013561 ,  0.02418612,\n",
        "       -0.02658104,  0.10469806, -0.03210638,  0.20581505,  0.25176135,\n",
        "        0.09637769,  0.05026466,  0.17269287, -0.04910383, -0.02149964,\n",
        "        0.20215423,  0.01359086,  0.01414853, -0.04636033,  0.02145562,\n",
        "        0.05281837, -0.01879424, -0.00503716, -0.02199563, -0.01494708,\n",
        "       -0.14763302,  0.00338298,  0.05840037,  0.02884031,  0.00656049,\n",
        "        0.16822585, -0.09508488, -0.04724155, -0.03473747,  0.11804654,\n",
        "        0.02384948,  0.06370614,  0.12827624,  0.04796053,  0.07956403,\n",
        "       -0.02698891,  0.0831513 , -0.02489674, -0.02892272, -0.21310641,\n",
        "       -0.14714393,  0.0418962 ,  0.00722931,  0.02932936,  0.06702447]\n",
        "average_a = np.mean(list)\n",
        "average_a"
      ],
      "execution_count": null,
      "outputs": [
        {
          "output_type": "execute_result",
          "data": {
            "text/plain": [
              "0.0090482385"
            ]
          },
          "metadata": {
            "tags": []
          },
          "execution_count": 214
        }
      ]
    }
  ]
}