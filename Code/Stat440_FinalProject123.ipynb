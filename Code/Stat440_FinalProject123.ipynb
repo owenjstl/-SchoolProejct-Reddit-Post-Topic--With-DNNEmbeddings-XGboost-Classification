{
  "nbformat": 4,
  "nbformat_minor": 0,
  "metadata": {
    "colab": {
      "name": " Stat440_FinalProject123.ipynb",
      "provenance": [],
      "collapsed_sections": []
    },
    "kernelspec": {
      "name": "python3",
      "display_name": "Python 3"
    },
    "language_info": {
      "name": "python"
    }
  },
  "cells": [
    {
      "cell_type": "markdown",
      "source": [
        "## STAT 440 Final Project: Personal Key Indicators of Heart Disease \n"
      ],
      "metadata": {
        "id": "z83XchohPjVX"
      }
    },
    {
      "cell_type": "code",
      "execution_count": 1,
      "metadata": {
        "colab": {
          "base_uri": "https://localhost:8080/",
          "height": 270
        },
        "id": "OibLbJ_kPAAA",
        "outputId": "bac4a9ea-da9d-41e6-fbbe-51080d47cb48"
      },
      "outputs": [
        {
          "output_type": "execute_result",
          "data": {
            "text/plain": [
              "     BMI Smoking AlcoholDrinking Stroke  PhysicalHealth  MentalHealth  \\\n",
              "0  16.60     Yes              No     No               3            30   \n",
              "1  20.34      No              No    Yes               0             0   \n",
              "2  26.58     Yes              No     No              20            30   \n",
              "3  24.21      No              No     No               0             0   \n",
              "4  23.71      No              No     No              28             0   \n",
              "\n",
              "  DiffWalking     Sex  AgeCategory   Race Diabetic PhysicalActivity  \\\n",
              "0          No  Female        55-59  White      Yes              Yes   \n",
              "1          No  Female  80 or older  White       No              Yes   \n",
              "2          No    Male        65-69  White      Yes              Yes   \n",
              "3          No  Female        75-79  White       No               No   \n",
              "4         Yes  Female        40-44  White       No              Yes   \n",
              "\n",
              "   GenHealth  SleepTime Asthma KidneyDisease SkinCancer HeartDisease  \n",
              "0  Very good          5    Yes            No        Yes           No  \n",
              "1  Very good          7     No            No         No           No  \n",
              "2       Fair          8    Yes            No         No           No  \n",
              "3       Good          6     No            No        Yes           No  \n",
              "4  Very good          8     No            No         No           No  "
            ],
            "text/html": [
              "\n",
              "  <div id=\"df-4284aa82-a069-4d24-957d-e15c540e968f\">\n",
              "    <div class=\"colab-df-container\">\n",
              "      <div>\n",
              "<style scoped>\n",
              "    .dataframe tbody tr th:only-of-type {\n",
              "        vertical-align: middle;\n",
              "    }\n",
              "\n",
              "    .dataframe tbody tr th {\n",
              "        vertical-align: top;\n",
              "    }\n",
              "\n",
              "    .dataframe thead th {\n",
              "        text-align: right;\n",
              "    }\n",
              "</style>\n",
              "<table border=\"1\" class=\"dataframe\">\n",
              "  <thead>\n",
              "    <tr style=\"text-align: right;\">\n",
              "      <th></th>\n",
              "      <th>BMI</th>\n",
              "      <th>Smoking</th>\n",
              "      <th>AlcoholDrinking</th>\n",
              "      <th>Stroke</th>\n",
              "      <th>PhysicalHealth</th>\n",
              "      <th>MentalHealth</th>\n",
              "      <th>DiffWalking</th>\n",
              "      <th>Sex</th>\n",
              "      <th>AgeCategory</th>\n",
              "      <th>Race</th>\n",
              "      <th>Diabetic</th>\n",
              "      <th>PhysicalActivity</th>\n",
              "      <th>GenHealth</th>\n",
              "      <th>SleepTime</th>\n",
              "      <th>Asthma</th>\n",
              "      <th>KidneyDisease</th>\n",
              "      <th>SkinCancer</th>\n",
              "      <th>HeartDisease</th>\n",
              "    </tr>\n",
              "  </thead>\n",
              "  <tbody>\n",
              "    <tr>\n",
              "      <th>0</th>\n",
              "      <td>16.60</td>\n",
              "      <td>Yes</td>\n",
              "      <td>No</td>\n",
              "      <td>No</td>\n",
              "      <td>3</td>\n",
              "      <td>30</td>\n",
              "      <td>No</td>\n",
              "      <td>Female</td>\n",
              "      <td>55-59</td>\n",
              "      <td>White</td>\n",
              "      <td>Yes</td>\n",
              "      <td>Yes</td>\n",
              "      <td>Very good</td>\n",
              "      <td>5</td>\n",
              "      <td>Yes</td>\n",
              "      <td>No</td>\n",
              "      <td>Yes</td>\n",
              "      <td>No</td>\n",
              "    </tr>\n",
              "    <tr>\n",
              "      <th>1</th>\n",
              "      <td>20.34</td>\n",
              "      <td>No</td>\n",
              "      <td>No</td>\n",
              "      <td>Yes</td>\n",
              "      <td>0</td>\n",
              "      <td>0</td>\n",
              "      <td>No</td>\n",
              "      <td>Female</td>\n",
              "      <td>80 or older</td>\n",
              "      <td>White</td>\n",
              "      <td>No</td>\n",
              "      <td>Yes</td>\n",
              "      <td>Very good</td>\n",
              "      <td>7</td>\n",
              "      <td>No</td>\n",
              "      <td>No</td>\n",
              "      <td>No</td>\n",
              "      <td>No</td>\n",
              "    </tr>\n",
              "    <tr>\n",
              "      <th>2</th>\n",
              "      <td>26.58</td>\n",
              "      <td>Yes</td>\n",
              "      <td>No</td>\n",
              "      <td>No</td>\n",
              "      <td>20</td>\n",
              "      <td>30</td>\n",
              "      <td>No</td>\n",
              "      <td>Male</td>\n",
              "      <td>65-69</td>\n",
              "      <td>White</td>\n",
              "      <td>Yes</td>\n",
              "      <td>Yes</td>\n",
              "      <td>Fair</td>\n",
              "      <td>8</td>\n",
              "      <td>Yes</td>\n",
              "      <td>No</td>\n",
              "      <td>No</td>\n",
              "      <td>No</td>\n",
              "    </tr>\n",
              "    <tr>\n",
              "      <th>3</th>\n",
              "      <td>24.21</td>\n",
              "      <td>No</td>\n",
              "      <td>No</td>\n",
              "      <td>No</td>\n",
              "      <td>0</td>\n",
              "      <td>0</td>\n",
              "      <td>No</td>\n",
              "      <td>Female</td>\n",
              "      <td>75-79</td>\n",
              "      <td>White</td>\n",
              "      <td>No</td>\n",
              "      <td>No</td>\n",
              "      <td>Good</td>\n",
              "      <td>6</td>\n",
              "      <td>No</td>\n",
              "      <td>No</td>\n",
              "      <td>Yes</td>\n",
              "      <td>No</td>\n",
              "    </tr>\n",
              "    <tr>\n",
              "      <th>4</th>\n",
              "      <td>23.71</td>\n",
              "      <td>No</td>\n",
              "      <td>No</td>\n",
              "      <td>No</td>\n",
              "      <td>28</td>\n",
              "      <td>0</td>\n",
              "      <td>Yes</td>\n",
              "      <td>Female</td>\n",
              "      <td>40-44</td>\n",
              "      <td>White</td>\n",
              "      <td>No</td>\n",
              "      <td>Yes</td>\n",
              "      <td>Very good</td>\n",
              "      <td>8</td>\n",
              "      <td>No</td>\n",
              "      <td>No</td>\n",
              "      <td>No</td>\n",
              "      <td>No</td>\n",
              "    </tr>\n",
              "  </tbody>\n",
              "</table>\n",
              "</div>\n",
              "      <button class=\"colab-df-convert\" onclick=\"convertToInteractive('df-4284aa82-a069-4d24-957d-e15c540e968f')\"\n",
              "              title=\"Convert this dataframe to an interactive table.\"\n",
              "              style=\"display:none;\">\n",
              "        \n",
              "  <svg xmlns=\"http://www.w3.org/2000/svg\" height=\"24px\"viewBox=\"0 0 24 24\"\n",
              "       width=\"24px\">\n",
              "    <path d=\"M0 0h24v24H0V0z\" fill=\"none\"/>\n",
              "    <path d=\"M18.56 5.44l.94 2.06.94-2.06 2.06-.94-2.06-.94-.94-2.06-.94 2.06-2.06.94zm-11 1L8.5 8.5l.94-2.06 2.06-.94-2.06-.94L8.5 2.5l-.94 2.06-2.06.94zm10 10l.94 2.06.94-2.06 2.06-.94-2.06-.94-.94-2.06-.94 2.06-2.06.94z\"/><path d=\"M17.41 7.96l-1.37-1.37c-.4-.4-.92-.59-1.43-.59-.52 0-1.04.2-1.43.59L10.3 9.45l-7.72 7.72c-.78.78-.78 2.05 0 2.83L4 21.41c.39.39.9.59 1.41.59.51 0 1.02-.2 1.41-.59l7.78-7.78 2.81-2.81c.8-.78.8-2.07 0-2.86zM5.41 20L4 18.59l7.72-7.72 1.47 1.35L5.41 20z\"/>\n",
              "  </svg>\n",
              "      </button>\n",
              "      \n",
              "  <style>\n",
              "    .colab-df-container {\n",
              "      display:flex;\n",
              "      flex-wrap:wrap;\n",
              "      gap: 12px;\n",
              "    }\n",
              "\n",
              "    .colab-df-convert {\n",
              "      background-color: #E8F0FE;\n",
              "      border: none;\n",
              "      border-radius: 50%;\n",
              "      cursor: pointer;\n",
              "      display: none;\n",
              "      fill: #1967D2;\n",
              "      height: 32px;\n",
              "      padding: 0 0 0 0;\n",
              "      width: 32px;\n",
              "    }\n",
              "\n",
              "    .colab-df-convert:hover {\n",
              "      background-color: #E2EBFA;\n",
              "      box-shadow: 0px 1px 2px rgba(60, 64, 67, 0.3), 0px 1px 3px 1px rgba(60, 64, 67, 0.15);\n",
              "      fill: #174EA6;\n",
              "    }\n",
              "\n",
              "    [theme=dark] .colab-df-convert {\n",
              "      background-color: #3B4455;\n",
              "      fill: #D2E3FC;\n",
              "    }\n",
              "\n",
              "    [theme=dark] .colab-df-convert:hover {\n",
              "      background-color: #434B5C;\n",
              "      box-shadow: 0px 1px 3px 1px rgba(0, 0, 0, 0.15);\n",
              "      filter: drop-shadow(0px 1px 2px rgba(0, 0, 0, 0.3));\n",
              "      fill: #FFFFFF;\n",
              "    }\n",
              "  </style>\n",
              "\n",
              "      <script>\n",
              "        const buttonEl =\n",
              "          document.querySelector('#df-4284aa82-a069-4d24-957d-e15c540e968f button.colab-df-convert');\n",
              "        buttonEl.style.display =\n",
              "          google.colab.kernel.accessAllowed ? 'block' : 'none';\n",
              "\n",
              "        async function convertToInteractive(key) {\n",
              "          const element = document.querySelector('#df-4284aa82-a069-4d24-957d-e15c540e968f');\n",
              "          const dataTable =\n",
              "            await google.colab.kernel.invokeFunction('convertToInteractive',\n",
              "                                                     [key], {});\n",
              "          if (!dataTable) return;\n",
              "\n",
              "          const docLinkHtml = 'Like what you see? Visit the ' +\n",
              "            '<a target=\"_blank\" href=https://colab.research.google.com/notebooks/data_table.ipynb>data table notebook</a>'\n",
              "            + ' to learn more about interactive tables.';\n",
              "          element.innerHTML = '';\n",
              "          dataTable['output_type'] = 'display_data';\n",
              "          await google.colab.output.renderOutput(dataTable, element);\n",
              "          const docLink = document.createElement('div');\n",
              "          docLink.innerHTML = docLinkHtml;\n",
              "          element.appendChild(docLink);\n",
              "        }\n",
              "      </script>\n",
              "    </div>\n",
              "  </div>\n",
              "  "
            ]
          },
          "metadata": {},
          "execution_count": 1
        }
      ],
      "source": [
        "#1 Read the data\n",
        "import pandas as pd\n",
        "import numpy as np\n",
        "data = pd.read_csv(\"/content/heart_2020_cleaned.csv\")\n",
        "data.head()"
      ]
    },
    {
      "cell_type": "markdown",
      "source": [
        "### Inspecting the data\n"
      ],
      "metadata": {
        "id": "V5gcwTWVebOM"
      }
    },
    {
      "cell_type": "code",
      "source": [
        "# Summary stat\n",
        "print(data.describe())\n",
        "print(data.info())"
      ],
      "metadata": {
        "colab": {
          "base_uri": "https://localhost:8080/"
        },
        "id": "5OfR-Ve2R5vD",
        "outputId": "3101e289-bc9a-48da-c2db-b122e6b3bc94"
      },
      "execution_count": 2,
      "outputs": [
        {
          "output_type": "stream",
          "name": "stdout",
          "text": [
            "                 BMI  PhysicalHealth   MentalHealth      SleepTime\n",
            "count  319795.000000    319795.00000  319795.000000  319795.000000\n",
            "mean       28.325399         3.37171       3.898366       7.097075\n",
            "std         6.356100         7.95085       7.955235       1.436007\n",
            "min        12.020000         0.00000       0.000000       1.000000\n",
            "25%        24.030000         0.00000       0.000000       6.000000\n",
            "50%        27.340000         0.00000       0.000000       7.000000\n",
            "75%        31.420000         2.00000       3.000000       8.000000\n",
            "max        94.850000        30.00000      30.000000      24.000000\n",
            "<class 'pandas.core.frame.DataFrame'>\n",
            "RangeIndex: 319795 entries, 0 to 319794\n",
            "Data columns (total 18 columns):\n",
            " #   Column            Non-Null Count   Dtype  \n",
            "---  ------            --------------   -----  \n",
            " 0   BMI               319795 non-null  float64\n",
            " 1   Smoking           319795 non-null  object \n",
            " 2   AlcoholDrinking   319795 non-null  object \n",
            " 3   Stroke            319795 non-null  object \n",
            " 4   PhysicalHealth    319795 non-null  int64  \n",
            " 5   MentalHealth      319795 non-null  int64  \n",
            " 6   DiffWalking       319795 non-null  object \n",
            " 7   Sex               319795 non-null  object \n",
            " 8   AgeCategory       319795 non-null  object \n",
            " 9   Race              319795 non-null  object \n",
            " 10  Diabetic          319795 non-null  object \n",
            " 11  PhysicalActivity  319795 non-null  object \n",
            " 12  GenHealth         319795 non-null  object \n",
            " 13  SleepTime         319795 non-null  int64  \n",
            " 14  Asthma            319795 non-null  object \n",
            " 15  KidneyDisease     319795 non-null  object \n",
            " 16  SkinCancer        319795 non-null  object \n",
            " 17  HeartDisease      319795 non-null  object \n",
            "dtypes: float64(1), int64(3), object(14)\n",
            "memory usage: 43.9+ MB\n",
            "None\n"
          ]
        }
      ]
    },
    {
      "cell_type": "markdown",
      "source": [
        "There is imbalance dataset. The ratio that No:Yes = 10.68. Therefore we need to solve data imbalance"
      ],
      "metadata": {
        "id": "I-GNgB-sXoWm"
      }
    },
    {
      "cell_type": "code",
      "source": [
        "print(data.isnull().values.any())\n"
      ],
      "metadata": {
        "colab": {
          "base_uri": "https://localhost:8080/"
        },
        "id": "7M1DTbtScBpl",
        "outputId": "3e338cf0-5c46-4be5-81c4-8fbb000f274e"
      },
      "execution_count": 3,
      "outputs": [
        {
          "output_type": "stream",
          "name": "stdout",
          "text": [
            "False\n"
          ]
        }
      ]
    },
    {
      "cell_type": "code",
      "source": [
        "import matplotlib.pyplot as plt\n",
        "plt.suptitle('HeartDisease', fontsize=20)\n",
        "data['HeartDisease'].value_counts().plot.pie(figsize=(6,6))\n",
        "\n",
        "print(data[[\"HeartDisease\"]].value_counts())"
      ],
      "metadata": {
        "colab": {
          "base_uri": "https://localhost:8080/",
          "height": 469
        },
        "id": "XBEXiAVFQtri",
        "outputId": "36d6c2dd-09c4-4598-e6db-9d1b589cd3a8"
      },
      "execution_count": 34,
      "outputs": [
        {
          "output_type": "stream",
          "name": "stdout",
          "text": [
            "HeartDisease\n",
            "0               292422\n",
            "1                27373\n",
            "dtype: int64\n"
          ]
        },
        {
          "output_type": "display_data",
          "data": {
            "text/plain": [
              "<Figure size 432x432 with 1 Axes>"
            ],
            "image/png": "[encoded data removed]"
          },
          "metadata": {}
        }
      ]
    },
    {
      "cell_type": "markdown",
      "source": [
        ""
      ],
      "metadata": {
        "id": "rONaeECd6vdu"
      }
    },
    {
      "cell_type": "code",
      "source": [
        "data[\"HeartDisease\"] = data[\"HeartDisease\"].replace(list(data[\"HeartDisease\"].unique()),[0,1])"
      ],
      "metadata": {
        "id": "RiqUb3hmh_Bf"
      },
      "execution_count": 5,
      "outputs": []
    },
    {
      "cell_type": "code",
      "source": [
        "print(data[\"HeartDisease\"])"
      ],
      "metadata": {
        "id": "vEHgADuNjA8n"
      },
      "execution_count": null,
      "outputs": []
    },
    {
      "cell_type": "markdown",
      "source": [
        ""
      ],
      "metadata": {
        "id": "3o_lc9RgQ8M9"
      }
    },
    {
      "cell_type": "code",
      "source": [
        "print(data.iloc[:,:-1])"
      ],
      "metadata": {
        "colab": {
          "base_uri": "https://localhost:8080/"
        },
        "id": "qxGbBe7QjnGe",
        "outputId": "31f6565c-b867-4c6a-cb5d-f5dd7ba022a5"
      },
      "execution_count": 7,
      "outputs": [
        {
          "output_type": "stream",
          "name": "stdout",
          "text": [
            "          BMI Smoking AlcoholDrinking Stroke  PhysicalHealth  MentalHealth  \\\n",
            "0       16.60     Yes              No     No               3            30   \n",
            "1       20.34      No              No    Yes               0             0   \n",
            "2       26.58     Yes              No     No              20            30   \n",
            "3       24.21      No              No     No               0             0   \n",
            "4       23.71      No              No     No              28             0   \n",
            "...       ...     ...             ...    ...             ...           ...   \n",
            "319790  27.41     Yes              No     No               7             0   \n",
            "319791  29.84     Yes              No     No               0             0   \n",
            "319792  24.24      No              No     No               0             0   \n",
            "319793  32.81      No              No     No               0             0   \n",
            "319794  46.56      No              No     No               0             0   \n",
            "\n",
            "       DiffWalking     Sex  AgeCategory      Race Diabetic PhysicalActivity  \\\n",
            "0               No  Female        55-59     White      Yes              Yes   \n",
            "1               No  Female  80 or older     White       No              Yes   \n",
            "2               No    Male        65-69     White      Yes              Yes   \n",
            "3               No  Female        75-79     White       No               No   \n",
            "4              Yes  Female        40-44     White       No              Yes   \n",
            "...            ...     ...          ...       ...      ...              ...   \n",
            "319790         Yes    Male        60-64  Hispanic      Yes               No   \n",
            "319791          No    Male        35-39  Hispanic       No              Yes   \n",
            "319792          No  Female        45-49  Hispanic       No              Yes   \n",
            "319793          No  Female        25-29  Hispanic       No               No   \n",
            "319794          No  Female  80 or older  Hispanic       No              Yes   \n",
            "\n",
            "        GenHealth  SleepTime Asthma KidneyDisease SkinCancer  \n",
            "0       Very good          5    Yes            No        Yes  \n",
            "1       Very good          7     No            No         No  \n",
            "2            Fair          8    Yes            No         No  \n",
            "3            Good          6     No            No        Yes  \n",
            "4       Very good          8     No            No         No  \n",
            "...           ...        ...    ...           ...        ...  \n",
            "319790       Fair          6    Yes            No         No  \n",
            "319791  Very good          5    Yes            No         No  \n",
            "319792       Good          6     No            No         No  \n",
            "319793       Good         12     No            No         No  \n",
            "319794       Good          8     No            No         No  \n",
            "\n",
            "[319795 rows x 17 columns]\n"
          ]
        }
      ]
    },
    {
      "cell_type": "markdown",
      "source": [
        "Preprocessing  the data"
      ],
      "metadata": {
        "id": "13zgVDBieT22"
      }
    },
    {
      "cell_type": "code",
      "source": [
        "data.iloc[:,[-1]]"
      ],
      "metadata": {
        "id": "6iRhsBtUloIS"
      },
      "execution_count": null,
      "outputs": []
    },
    {
      "cell_type": "code",
      "source": [
        "# Convert the categorical features\n",
        "data_dummies_pre = pd.get_dummies(data.iloc[:,:-1])\n",
        "\n",
        "data_dummies = pd.concat([data_dummies_pre, data.iloc[:,[-1]]], axis = 1)\n",
        "\n",
        "\n",
        "print(data_dummies.head(5))\n"
      ],
      "metadata": {
        "id": "Z6UMquvAhO-7",
        "colab": {
          "base_uri": "https://localhost:8080/"
        },
        "outputId": "54eb818d-fb9c-4c27-af9d-1aa5370e67eb"
      },
      "execution_count": 35,
      "outputs": [
        {
          "output_type": "stream",
          "name": "stdout",
          "text": [
            "     BMI  PhysicalHealth  MentalHealth  SleepTime  Smoking_No  Smoking_Yes  \\\n",
            "0  16.60               3            30          5           0            1   \n",
            "1  20.34               0             0          7           1            0   \n",
            "2  26.58              20            30          8           0            1   \n",
            "3  24.21               0             0          6           1            0   \n",
            "4  23.71              28             0          8           1            0   \n",
            "\n",
            "   AlcoholDrinking_No  AlcoholDrinking_Yes  Stroke_No  Stroke_Yes  ...  \\\n",
            "0                   1                    0          1           0  ...   \n",
            "1                   1                    0          0           1  ...   \n",
            "2                   1                    0          1           0  ...   \n",
            "3                   1                    0          1           0  ...   \n",
            "4                   1                    0          1           0  ...   \n",
            "\n",
            "   GenHealth_Good  GenHealth_Poor  GenHealth_Very good  Asthma_No  Asthma_Yes  \\\n",
            "0               0               0                    1          0           1   \n",
            "1               0               0                    1          1           0   \n",
            "2               0               0                    0          0           1   \n",
            "3               1               0                    0          1           0   \n",
            "4               0               0                    1          1           0   \n",
            "\n",
            "   KidneyDisease_No  KidneyDisease_Yes  SkinCancer_No  SkinCancer_Yes  \\\n",
            "0                 1                  0              0               1   \n",
            "1                 1                  0              1               0   \n",
            "2                 1                  0              1               0   \n",
            "3                 1                  0              0               1   \n",
            "4                 1                  0              1               0   \n",
            "\n",
            "   HeartDisease  \n",
            "0             0  \n",
            "1             0  \n",
            "2             0  \n",
            "3             0  \n",
            "4             0  \n",
            "\n",
            "[5 rows x 51 columns]\n"
          ]
        }
      ]
    },
    {
      "cell_type": "markdown",
      "source": [
        "Oversample the data to make it more balanced"
      ],
      "metadata": {
        "id": "tcHw03NAaEyC"
      }
    },
    {
      "cell_type": "code",
      "source": [
        "from imblearn.over_sampling import SMOTE\n",
        "sm = SMOTE(random_state = 42)\n",
        "X_smo, y_smo = sm.fit_resample(data_dummies_pre, data.iloc[:,[-1]])\n"
      ],
      "metadata": {
        "id": "C-vda45eaIB9"
      },
      "execution_count": 10,
      "outputs": []
    },
    {
      "cell_type": "code",
      "source": [
        "data_dummies = pd.concat([X_smo, y_smo], axis = 1)\n",
        "print(data_dummies)"
      ],
      "metadata": {
        "id": "LU_qgaAHnUSg"
      },
      "execution_count": null,
      "outputs": []
    },
    {
      "cell_type": "code",
      "source": [
        "print(data_dummies[[\"HeartDisease\"]].value_counts())"
      ],
      "metadata": {
        "colab": {
          "base_uri": "https://localhost:8080/"
        },
        "id": "Bgm3enE48Jw8",
        "outputId": "d9d05839-b13a-44b4-cec0-0defb7da4175"
      },
      "execution_count": 38,
      "outputs": [
        {
          "output_type": "stream",
          "name": "stdout",
          "text": [
            "HeartDisease\n",
            "0               292422\n",
            "1               292422\n",
            "dtype: int64\n"
          ]
        }
      ]
    },
    {
      "cell_type": "code",
      "source": [
        "# Spilitting the dataset into train and test sets\n",
        "# Import train_test_split\n",
        "from sklearn.model_selection import train_test_split\n",
        "data_train, data_test = train_test_split(data_dummies, test_size=0.3, random_state=42)\n"
      ],
      "metadata": {
        "id": "vbs27vtqTWm-"
      },
      "execution_count": 12,
      "outputs": []
    },
    {
      "cell_type": "code",
      "source": [
        "#X_test = X_test.reindex(columns=X_train.columns, fill_value=0)\n"
      ],
      "metadata": {
        "id": "_nAQa9kyhuVN"
      },
      "execution_count": 13,
      "outputs": []
    },
    {
      "cell_type": "code",
      "source": [
        "# Import the StandardScaler\n",
        "from sklearn.preprocessing import StandardScaler\n",
        "\n",
        "# Segregate features and labels into separate variables\n",
        "#X_train, y_train = data_train.iloc[:,:-1].values, data_train.iloc[:,[-1]].values\n",
        "#X_test, y_test = data_test.iloc[:,:-1].values, data_test.iloc[:,[-1]].values\n",
        "y_train=data_train.iloc[:,[-1]].values\n",
        "y_test=data_test.iloc[:,[-1]].values  #value\n",
        "X_train=data_train.drop([\"HeartDisease\"],axis=1) #dataframe\n",
        "X_test=data_test.drop([\"HeartDisease\"],axis=1)\n"
      ],
      "metadata": {
        "id": "UP0HNZEyQ4OV"
      },
      "execution_count": 14,
      "outputs": []
    },
    {
      "cell_type": "code",
      "source": [
        "# Check the correlation for each columns\n",
        "corr_data_train = data_train.corr()\n",
        "corr_data_train.style.background_gradient()"
      ],
      "metadata": {
        "id": "h0HA9NKXeTVn"
      },
      "execution_count": null,
      "outputs": []
    },
    {
      "cell_type": "code",
      "source": [
        "# check\n",
        "print(data_train)"
      ],
      "metadata": {
        "id": "hPbF00o8No5E"
      },
      "execution_count": null,
      "outputs": []
    },
    {
      "cell_type": "markdown",
      "source": [
        "#### PCA\n",
        "we can instead use a common approach to reduce the number of features called principal component analysis (PCA).It is possible that the variance between genres can be explained by just a few features in the dataset. PCA rotates the data along the axis of highest variance, thus allowing us to determine the relative contribution of each feature of our data towards the variance between classes."
      ],
      "metadata": {
        "id": "N8nsAbOxhYmD"
      }
    },
    {
      "cell_type": "markdown",
      "source": [
        "However, since PCA uses the absolute variance of a feature to rotate the data, a feature with a broader range of values will overpower and bias the algorithm relative to the other features. To avoid this, we must first normalize our train and test features. There are a few methods to do this, but a common way is through standardization, such that all features have a mean = 0 and standard deviation = 1 (the resultant is a z-score)."
      ],
      "metadata": {
        "id": "UdYrQ5zrNLLB"
      }
    },
    {
      "cell_type": "code",
      "source": [
        "# Import the StandardScaler\n",
        "from sklearn.preprocessing import StandardScaler\n",
        "\n",
        "# Scale train_features and set the values to a new variable\n",
        "scaler = StandardScaler()\n",
        "\n",
        "# Scale train_features and test_features\n",
        "scaled_train_features = scaler.fit_transform(X_train)\n",
        "scaled_test_features = scaler.transform(X_test)\n",
        "print(len(X_train))\n",
        "print(len(y_train))"
      ],
      "metadata": {
        "colab": {
          "base_uri": "https://localhost:8080/"
        },
        "id": "FIjq0MR8NKsy",
        "outputId": "e4ffa97e-5fa5-4961-dfab-e89f0a7faf1b"
      },
      "execution_count": 16,
      "outputs": [
        {
          "output_type": "stream",
          "name": "stdout",
          "text": [
            "409390\n",
            "409390\n"
          ]
        }
      ]
    },
    {
      "cell_type": "code",
      "source": [
        "%matplotlib inline\n",
        "import matplotlib.pyplot as plt\n",
        "from sklearn.decomposition import PCA\n",
        "\n",
        "#PCA using all features\n",
        "pca = PCA()\n",
        "pca.fit(X_train)\n",
        "exp_variance = pca.explained_variance_ratio_\n",
        "\n",
        "# plot the explained variance using a barplot\n",
        "fig, ax = plt.subplots()\n",
        "ax.bar(range(pca.n_components_), exp_variance)\n",
        "ax.set_xlabel('Principal Component #')"
      ],
      "metadata": {
        "colab": {
          "base_uri": "https://localhost:8080/",
          "height": 296
        },
        "id": "Fh0_8GBnyqTV",
        "outputId": "af0f9c5e-7f8d-423b-a2b4-f4b704869c49"
      },
      "execution_count": 17,
      "outputs": [
        {
          "output_type": "execute_result",
          "data": {
            "text/plain": [
              "Text(0.5, 0, 'Principal Component #')"
            ]
          },
          "metadata": {},
          "execution_count": 17
        },
        {
          "output_type": "display_data",
          "data": {
            "text/plain": [
              "<Figure size 432x288 with 1 Axes>"
            ],
            "image/png": "[encoded data removed]"
          },
          "metadata": {
            "needs_background": "light"
          }
        }
      ]
    },
    {
      "cell_type": "markdown",
      "source": [
        "Further visualization of PCA"
      ],
      "metadata": {
        "id": "WXeTirR6LtwK"
      }
    },
    {
      "cell_type": "code",
      "source": [
        "import numpy as np\n",
        "\n",
        "# Calculate the cumulative explained variance\n",
        "cum_exp_variance = np.cumsum(exp_variance)\n",
        "\n",
        "# Plot the cumulative explained variance and draw a dashed line at 0.97.\n",
        "fig, ax = plt.subplots()\n",
        "ax.plot(cum_exp_variance)\n",
        "ax.axhline(y=0.97, linestyle='--')"
      ],
      "metadata": {
        "colab": {
          "base_uri": "https://localhost:8080/",
          "height": 282
        },
        "id": "uiQ4HS0KVIIF",
        "outputId": "fda21a66-0716-4cb9-cc02-de2311f829fc"
      },
      "execution_count": 42,
      "outputs": [
        {
          "output_type": "execute_result",
          "data": {
            "text/plain": [
              "<matplotlib.lines.Line2D at 0x7f949eb52fd0>"
            ]
          },
          "metadata": {},
          "execution_count": 42
        },
        {
          "output_type": "display_data",
          "data": {
            "text/plain": [
              "<Figure size 432x288 with 1 Axes>"
            ],
            "image/png": "[encoded data removed]"
          },
          "metadata": {
            "needs_background": "light"
          }
        }
      ]
    },
    {
      "cell_type": "code",
      "source": [
        "# Perform PCA with the chosen number of components and project data onto components\n",
        "pca = PCA(n_components=4, random_state=10)\n",
        "\n",
        "# Fit and transform the scaled training features using pca\n",
        "train_pca = pca.fit_transform(scaled_train_features)\n",
        "\n",
        "# Fit and transform the scaled test features using pca\n",
        "test_pca = pca.transform(scaled_test_features)"
      ],
      "metadata": {
        "id": "ikRThhw-VNhJ"
      },
      "execution_count": 46,
      "outputs": []
    },
    {
      "cell_type": "code",
      "source": [
        "# Import Decision tree classifier\n",
        "from sklearn.tree import DecisionTreeClassifier\n",
        "\n",
        "# Create our decision tree\n",
        "tree = DecisionTreeClassifier(random_state=10)\n",
        "\n",
        "# Train our decision tree\n",
        "tree.fit(train_pca, y_train)\n",
        "\n",
        "# Predict the labels for the test data\n",
        "pred_labels_tree = tree.predict(test_pca)\n"
      ],
      "metadata": {
        "id": "J396s3mqVRrO"
      },
      "execution_count": 26,
      "outputs": []
    },
    {
      "cell_type": "code",
      "source": [
        "print(len(pred_labels_tree))"
      ],
      "metadata": {
        "colab": {
          "base_uri": "https://localhost:8080/"
        },
        "id": "dqjoLj8eW6ep",
        "outputId": "2a418645-39e2-42e1-b17c-fd317ff963d7"
      },
      "execution_count": 21,
      "outputs": [
        {
          "output_type": "stream",
          "name": "stdout",
          "text": [
            "175454\n"
          ]
        }
      ]
    },
    {
      "cell_type": "code",
      "source": [
        "# Import LogisticRegression\n",
        "from sklearn.linear_model import LogisticRegression\n",
        "\n",
        "# Train our logisitic regression\n",
        "logreg = LogisticRegression(random_state=10)\n",
        "logreg.fit(train_pca, y_train)\n",
        "pred_labels_logit = logreg.predict(test_pca)\n",
        "\n",
        "# Create the classification report for both models\n",
        "from sklearn.metrics import classification_report\n",
        "class_rep_tree = classification_report(y_test, pred_labels_tree)\n",
        "class_rep_log = classification_report(y_test, pred_labels_logit)\n",
        "\n",
        "print(\"Decision Tree: \\n\", class_rep_tree)\n",
        "print(\"Logistic Regression: \\n\", class_rep_log)"
      ],
      "metadata": {
        "colab": {
          "base_uri": "https://localhost:8080/"
        },
        "id": "zIqsuwy6WpQb",
        "outputId": "6b5e7250-22da-4d13-d984-db62f1ce8c2b"
      },
      "execution_count": 44,
      "outputs": [
        {
          "output_type": "stream",
          "name": "stderr",
          "text": [
            "/usr/local/lib/python3.7/dist-packages/sklearn/utils/validation.py:993: DataConversionWarning: A column-vector y was passed when a 1d array was expected. Please change the shape of y to (n_samples, ), for example using ravel().\n",
            "  y = column_or_1d(y, warn=True)\n"
          ]
        },
        {
          "output_type": "stream",
          "name": "stdout",
          "text": [
            "Decision Tree: \n",
            "               precision    recall  f1-score   support\n",
            "\n",
            "           0       0.80      0.85      0.82     87576\n",
            "           1       0.84      0.79      0.81     87878\n",
            "\n",
            "    accuracy                           0.82    175454\n",
            "   macro avg       0.82      0.82      0.82    175454\n",
            "weighted avg       0.82      0.82      0.82    175454\n",
            "\n",
            "Logistic Regression: \n",
            "               precision    recall  f1-score   support\n",
            "\n",
            "           0       0.73      0.76      0.75     87576\n",
            "           1       0.75      0.72      0.74     87878\n",
            "\n",
            "    accuracy                           0.74    175454\n",
            "   macro avg       0.74      0.74      0.74    175454\n",
            "weighted avg       0.74      0.74      0.74    175454\n",
            "\n"
          ]
        }
      ]
    },
    {
      "cell_type": "markdown",
      "source": [
        "MultinomialNB"
      ],
      "metadata": {
        "id": "ZdQBo9-vpM3_"
      }
    },
    {
      "cell_type": "code",
      "source": [
        "print(train_pca)"
      ],
      "metadata": {
        "id": "2TAo8_xwscag"
      },
      "execution_count": null,
      "outputs": []
    },
    {
      "cell_type": "code",
      "source": [
        "from sklearn.naive_bayes import MultinomialNB\n",
        "from sklearn.preprocessing import MinMaxScaler\n",
        "MultiNB = MultinomialNB()\n",
        "#To avoid negative\n",
        "mms = MinMaxScaler().fit(train_pca)\n",
        "train_pca_nb = mms.transform(train_pca)\n",
        "test_pca_nb = mms.transform(test_pca)\n",
        "\n",
        "\n",
        "\n",
        "MultiNB.fit(train_pca_nb, y_train)\n",
        "pred_labels_MultiNB = logreg.predict(test_pca_nb)\n",
        "\n",
        "class_rep_nb = classification_report(y_test, pred_labels_MultiNB)\n",
        "\n",
        "print(\"MultinomialNB: \\n\", class_rep_nb)"
      ],
      "metadata": {
        "colab": {
          "base_uri": "https://localhost:8080/"
        },
        "id": "OQoVa95JpMeE",
        "outputId": "f3745a0b-3633-403c-9f65-b9de54fb92be"
      },
      "execution_count": 45,
      "outputs": [
        {
          "output_type": "stream",
          "name": "stderr",
          "text": [
            "/usr/local/lib/python3.7/dist-packages/sklearn/utils/validation.py:993: DataConversionWarning: A column-vector y was passed when a 1d array was expected. Please change the shape of y to (n_samples, ), for example using ravel().\n",
            "  y = column_or_1d(y, warn=True)\n"
          ]
        },
        {
          "output_type": "stream",
          "name": "stdout",
          "text": [
            "MultinomialNB: \n",
            "               precision    recall  f1-score   support\n",
            "\n",
            "           0       0.57      0.95      0.71     87576\n",
            "           1       0.84      0.28      0.42     87878\n",
            "\n",
            "    accuracy                           0.61    175454\n",
            "   macro avg       0.70      0.61      0.56    175454\n",
            "weighted avg       0.70      0.61      0.56    175454\n",
            "\n"
          ]
        }
      ]
    },
    {
      "cell_type": "markdown",
      "source": [
        "The best model is decision tree: we apply cross-validation to increase the f1-score"
      ],
      "metadata": {
        "id": "NqXyLR0AuYoa"
      }
    },
    {
      "cell_type": "code",
      "source": [
        "from sklearn.model_selection import cross_val_score\n",
        "d_scores = cross_val_score(tree,train_pca, y_train,cv=5)\n",
        "d_scores"
      ],
      "metadata": {
        "colab": {
          "base_uri": "https://localhost:8080/"
        },
        "id": "POYMun0mudxl",
        "outputId": "4182eedb-ecc5-452e-9196-49110cec90af"
      },
      "execution_count": 29,
      "outputs": [
        {
          "output_type": "execute_result",
          "data": {
            "text/plain": [
              "array([0.86747356, 0.86713159, 0.86736364, 0.86710716, 0.86597132])"
            ]
          },
          "metadata": {},
          "execution_count": 29
        }
      ]
    }
  ]
}
